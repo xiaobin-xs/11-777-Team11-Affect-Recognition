{
 "cells": [
  {
   "cell_type": "code",
   "execution_count": 37,
   "metadata": {},
   "outputs": [],
   "source": [
    "import numpy as np\n",
    "import scipy as sp\n",
    "from tqdm import tqdm\n",
    "import mne\n",
    "\n",
    "from helper_code import load_participant_data, find_participant_ids\n",
    "from helper_code import eeg_channels as EEG_CHANNELS\n",
    "from helper_code import label_names as LABEL_NAMES"
   ]
  },
  {
   "cell_type": "code",
   "execution_count": 14,
   "metadata": {},
   "outputs": [
    {
     "name": "stdout",
     "output_type": "stream",
     "text": [
      "participant_ids ['01', '02', '03', '04', '05', '06', '07', '08', '09', '10', '11', '12', '13', '14', '15', '16', '17', '18', '19', '20', '21', '22', '23', '24', '25', '26', '27', '28', '29', '30', '31', '32']\n",
      "loading data...\n"
     ]
    },
    {
     "name": "stderr",
     "output_type": "stream",
     "text": [
      "100%|██████████| 32/32 [00:17<00:00,  1.82it/s]\n"
     ]
    },
    {
     "name": "stdout",
     "output_type": "stream",
     "text": [
      "\tlabels_all: (32, 40, 4)\n",
      "\teeg_features: (32, 40, 32, 8064)\n",
      "\tother_physio_features: (32, 40, 8, 8064)\n"
     ]
    }
   ],
   "source": [
    "data_folder = '../DEAP/Data'\n",
    "task = 'regression'\n",
    "\n",
    "data_folder = data_folder[:-1] if data_folder.endswith('/') else data_folder\n",
    "participant_ids = find_participant_ids(data_folder)\n",
    "print('participant_ids', participant_ids)\n",
    "video_features = []\n",
    "eeg_features = []\n",
    "other_physio_features = list()\n",
    "labels_all = list()\n",
    "print('loading data...')\n",
    "for participant_id in tqdm(participant_ids):\n",
    "    mat = sp.io.loadmat( '{0}/P{1}/s{1}.mat'.format(data_folder, participant_id) )\n",
    "    ## labels\n",
    "    labels = mat['labels'][:, :] # video/trial x label (valence, arousal, dominance, liking)\n",
    "    labels_all.append(labels[np.newaxis, :, :])\n",
    "    ## physiological signals\n",
    "    physio_data = mat['data'] # video/trial x channel x data (physiological signals)\n",
    "    # EEG\n",
    "    eeg_data = physio_data[:, :32, :]\n",
    "    eeg_features.append(eeg_data[np.newaxis, :, :, :])\n",
    "    # other physiological signals\n",
    "    other_physio_data = physio_data[:, 32:, :]\n",
    "    other_physio_features.append(other_physio_data[np.newaxis, :, :, :])\n",
    "        \n",
    "labels_all = np.vstack(labels_all)\n",
    "eeg_features = np.vstack(eeg_features)\n",
    "other_physio_features = np.vstack(other_physio_features)\n",
    "\n",
    "print('\\tlabels_all:', labels_all.shape)\n",
    "# print('\\tvideo_features:', video_features.shape)\n",
    "print('\\teeg_features:', eeg_features.shape)\n",
    "print('\\tother_physio_features:', other_physio_features.shape)"
   ]
  },
  {
   "cell_type": "code",
   "execution_count": 111,
   "metadata": {},
   "outputs": [],
   "source": [
    "# Extract features from the EEG data.\n",
    "def get_eeg_features(data, sampling_frequency):\n",
    "    num_channels, num_samples = np.shape(data)\n",
    "\n",
    "    if num_samples > 0:\n",
    "        delta_psd, _ = mne.time_frequency.psd_array_welch(data, sfreq=sampling_frequency,  fmin=0.5,  fmax=4.0, verbose=False)\n",
    "        theta_psd, _ = mne.time_frequency.psd_array_welch(data, sfreq=sampling_frequency,  fmin=4.0,  fmax=8.0, verbose=False)\n",
    "        alpha_psd, _ = mne.time_frequency.psd_array_welch(data, sfreq=sampling_frequency,  fmin=8.0, fmax=12.0, verbose=False)\n",
    "        beta_psd,  _ = mne.time_frequency.psd_array_welch(data, sfreq=sampling_frequency, fmin=12.0, fmax=30.0, verbose=False)\n",
    "        gamma_psd,  _ = mne.time_frequency.psd_array_welch(data, sfreq=sampling_frequency, fmin=30.0, fmax=45.0, verbose=False)\n",
    "\n",
    "        delta_psd_mean = np.nanmean(delta_psd, axis=1)\n",
    "        theta_psd_mean = np.nanmean(theta_psd, axis=1)\n",
    "        alpha_psd_mean = np.nanmean(alpha_psd, axis=1)\n",
    "        beta_psd_mean  = np.nanmean(beta_psd,  axis=1)\n",
    "        gamma_psd_mean = np.nanmean(gamma_psd, axis=1)\n",
    "\n",
    "    else:\n",
    "        delta_psd_mean = theta_psd_mean = alpha_psd_mean = beta_psd_mean = gamma_psd_mean = float('nan') * np.ones(num_channels)\n",
    "\n",
    "    features = np.array((delta_psd_mean, theta_psd_mean, alpha_psd_mean, beta_psd_mean, gamma_psd_mean)).T\n",
    "\n",
    "    return features"
   ]
  },
  {
   "cell_type": "code",
   "execution_count": 112,
   "metadata": {},
   "outputs": [],
   "source": [
    "passband = [0.1, 45.0]\n",
    "sampling_frequency = 128\n",
    "\n",
    "eeg_psd_features = []\n",
    "labels_all2 = []\n",
    "\n",
    "participant_trials =[[1, 10],\n",
    "                     [1, 23],\n",
    "                     [2, 2],\n",
    "                     [2, 5],\n",
    "                     [2, 19],\n",
    "                     [2, 39],\n",
    "                     [4, 23],\n",
    "                     [9, 24],\n",
    "                     [11, 20],\n",
    "                     [13, 14],\n",
    "                     [13, 26],\n",
    "                     [18, 40],\n",
    "                     [22, 33]]\n",
    "\n",
    "# for i in tqdm(range(32)):\n",
    "#     for j in range(40):\n",
    "for (i,j) in participant_trials:\n",
    "    data = eeg_features[i-1][j-1]\n",
    "    # Promote the data to double precision because these libraries expect double precision.\n",
    "    data = np.asarray(data, dtype=np.float64)\n",
    "    # Apply a bandpass filter.\n",
    "    data = mne.filter.filter_data(data, sampling_frequency, passband[0], passband[1], n_jobs=-1, verbose='error') # filter out too low and too high frequency noise\n",
    "    data = get_eeg_features(data, sampling_frequency).flatten() # (128,) 128 = 32 channels x 4 psd features\n",
    "\n",
    "    eeg_psd_features.append(data[np.newaxis, :])\n",
    "    labels_all2.append(labels_all[i-1][j-1][np.newaxis, :])\n",
    "\n",
    "eeg_psd_features = np.vstack(eeg_psd_features)\n",
    "labels_all2 = np.vstack(labels_all2)"
   ]
  },
  {
   "cell_type": "code",
   "execution_count": 114,
   "metadata": {},
   "outputs": [
    {
     "data": {
      "text/plain": [
       "(13, 160)"
      ]
     },
     "execution_count": 114,
     "metadata": {},
     "output_type": "execute_result"
    }
   ],
   "source": [
    "eeg_psd_features.shape"
   ]
  },
  {
   "cell_type": "code",
   "execution_count": 86,
   "metadata": {},
   "outputs": [
    {
     "name": "stdout",
     "output_type": "stream",
     "text": [
      "s01_trial10\n",
      "s01_trial23\n",
      "s02_trial02\n",
      "s02_trial05\n",
      "s02_trial19\n",
      "s02_trial39\n",
      "s04_trial23\n",
      "s09_trial24\n",
      "s11_trial20\n",
      "s13_trial14\n",
      "s13_trial26\n",
      "s18_trial40\n",
      "s22_trial33\n"
     ]
    }
   ],
   "source": [
    "participant_trials_list = []\n",
    "for i, j in participant_trials:\n",
    "    participant_trials_list.append( 's{:02d}_trial{:02d}'.format(i,j) )\n",
    "    print( 's{:02d}_trial{:02d}'.format(i,j) )"
   ]
  },
  {
   "cell_type": "code",
   "execution_count": 121,
   "metadata": {},
   "outputs": [
    {
     "name": "stdout",
     "output_type": "stream",
     "text": [
      "\n",
      "[ 1  2 11 10 12  7  3  4  8  6  5  9 13]\n",
      "\n",
      "[ 2  1 11 10 12  7  3  4  8  6  5  9 13]\n",
      "\n",
      "[ 3  4  6  5  7 10 11 12  2  1  8  9 13]\n",
      "\n",
      "[ 4  3  6  5  7 11 10 12  2  1  8  9 13]\n",
      "\n",
      "[ 5  6  4  3  7 10 11 12  2  1  8  9 13]\n",
      "\n",
      "[ 6  4  3  5  7 10 11 12  2  1  8  9 13]\n",
      "\n",
      "[ 7 12 10 11  2  1  3  4  6  8  5  9 13]\n",
      "\n",
      "[ 8 12 10 11  1  2  7  3  4  6  5  9 13]\n",
      "\n",
      "[ 9  7  3  4  6  5 10 11 12  2  1  8 13]\n",
      "\n",
      "[10 11  1  2 12  7  3  4  8  6  5  9 13]\n",
      "\n",
      "[11 10  1  2 12  7  3  4  8  6  5  9 13]\n",
      "\n",
      "[12  1  2 10 11  7  3  4  8  6  5  9 13]\n",
      "\n",
      "[13  5  6  4  3  7  8 12 10 11  9  2  1]\n"
     ]
    },
    {
     "data": {
      "text/plain": [
       "array([[ 2, 11, 10, 12,  7,  3,  4,  8,  6,  5,  9, 13],\n",
       "       [ 1, 11, 10, 12,  7,  3,  4,  8,  6,  5,  9, 13],\n",
       "       [ 4,  6,  5,  7, 10, 11, 12,  2,  1,  8,  9, 13],\n",
       "       [ 3,  6,  5,  7, 11, 10, 12,  2,  1,  8,  9, 13],\n",
       "       [ 6,  4,  3,  7, 10, 11, 12,  2,  1,  8,  9, 13],\n",
       "       [ 4,  3,  5,  7, 10, 11, 12,  2,  1,  8,  9, 13],\n",
       "       [12, 10, 11,  2,  1,  3,  4,  6,  8,  5,  9, 13],\n",
       "       [12, 10, 11,  1,  2,  7,  3,  4,  6,  5,  9, 13],\n",
       "       [ 7,  3,  4,  6,  5, 10, 11, 12,  2,  1,  8, 13],\n",
       "       [11,  1,  2, 12,  7,  3,  4,  8,  6,  5,  9, 13],\n",
       "       [10,  1,  2, 12,  7,  3,  4,  8,  6,  5,  9, 13],\n",
       "       [ 1,  2, 10, 11,  7,  3,  4,  8,  6,  5,  9, 13],\n",
       "       [ 5,  6,  4,  3,  7,  8, 12, 10, 11,  9,  2,  1]])"
      ]
     },
     "execution_count": 121,
     "metadata": {},
     "output_type": "execute_result"
    }
   ],
   "source": [
    "import matplotlib.pyplot as plt\n",
    "import seaborn as sns; sns.set()\n",
    "plt.style.use('default')\n",
    "\n",
    "sort_eeg_in_id = []\n",
    "\n",
    "l2_dist = np.linalg.norm(eeg_psd_features[:, None, :] - eeg_psd_features[None, :, :], axis=-1)\n",
    "# sns.heatmap(l2_dist, cmap='viridis')\n",
    "for i in range(13):\n",
    "    # [print(participant_trials_list[x], end=', ') for x in np.argsort(l2_dist[i])[1:]]\n",
    "    print ()\n",
    "    sort_eeg_in_id.append( list(np.argsort(l2_dist[i])[1:]) )\n",
    "    print( 1+np.argsort(l2_dist[i]))\n",
    "\n",
    "np.array(sort_eeg_in_id) + 1"
   ]
  },
  {
   "cell_type": "code",
   "execution_count": 107,
   "metadata": {},
   "outputs": [],
   "source": [
    "participant_trials_list_dict = {participant_trials_list[i]: i for i in range(13)}"
   ]
  },
  {
   "cell_type": "code",
   "execution_count": 115,
   "metadata": {},
   "outputs": [
    {
     "name": "stdout",
     "output_type": "stream",
     "text": [
      "2, 10, 11, 12, 6, 7, 4, 5, 3, 9, 8, 13, \n",
      "1, 10, 11, 12, 7, 6, 5, 4, 9, 3, 8, 13, \n",
      "4, 6, 5, 7, 9, 8, 11, 10, 13, 2, 1, 12, \n",
      "3, 6, 5, 7, 9, 8, 11, 10, 13, 2, 1, 12, \n",
      "6, 4, 3, 7, 9, 11, 8, 10, 13, 2, 1, 12, \n",
      "5, 4, 3, 7, 9, 11, 8, 10, 2, 13, 1, 12, \n",
      "8, 9, 6, 5, 11, 4, 3, 10, 12, 2, 13, 1, \n",
      "7, 9, 6, 11, 5, 12, 4, 10, 3, 2, 13, 1, \n",
      "7, 8, 11, 6, 10, 5, 4, 3, 12, 2, 13, 1, \n",
      "11, 2, 9, 7, 12, 1, 6, 5, 8, 4, 3, 13, \n",
      "10, 9, 7, 2, 6, 12, 8, 5, 1, 4, 3, 13, \n",
      "7, 10, 11, 2, 8, 9, 1, 6, 4, 5, 3, 13, \n",
      "5, 7, 4, 3, 6, 9, 8, 11, 10, 12, 2, 1, \n"
     ]
    },
    {
     "data": {
      "text/plain": [
       "[[1, 9, 10, 11, 5, 6, 3, 4, 2, 8, 7, 12],\n",
       " [0, 9, 10, 11, 6, 5, 4, 3, 8, 2, 7, 12],\n",
       " [3, 5, 4, 6, 8, 7, 10, 9, 12, 1, 0, 11],\n",
       " [2, 5, 4, 6, 8, 7, 10, 9, 12, 1, 0, 11],\n",
       " [5, 3, 2, 6, 8, 10, 7, 9, 12, 1, 0, 11],\n",
       " [4, 3, 2, 6, 8, 10, 7, 9, 1, 12, 0, 11],\n",
       " [7, 8, 5, 4, 10, 3, 2, 9, 11, 1, 12, 0],\n",
       " [6, 8, 5, 10, 4, 11, 3, 9, 2, 1, 12, 0],\n",
       " [6, 7, 10, 5, 9, 4, 3, 2, 11, 1, 12, 0],\n",
       " [10, 1, 8, 6, 11, 0, 5, 4, 7, 3, 2, 12],\n",
       " [9, 8, 6, 1, 5, 11, 7, 4, 0, 3, 2, 12],\n",
       " [6, 9, 10, 1, 7, 8, 0, 5, 3, 4, 2, 12],\n",
       " [4, 6, 3, 2, 5, 8, 7, 10, 9, 11, 1, 0]]"
      ]
     },
     "execution_count": 115,
     "metadata": {},
     "output_type": "execute_result"
    }
   ],
   "source": [
    "sort_video = [['s01_trial23', 's13_trial14', 's13_trial26', 's18_trial40', 's02_trial39', 's04_trial23', 's02_trial05', 's02_trial19', 's02_trial02', 's11_trial20', 's09_trial24', 's22_trial33'],\n",
    "['s01_trial10', 's13_trial14', 's13_trial26', 's18_trial40', 's04_trial23', 's02_trial39', 's02_trial19', 's02_trial05', 's11_trial20', 's02_trial02', 's09_trial24', 's22_trial33'],\n",
    "['s02_trial05', 's02_trial39', 's02_trial19', 's04_trial23', 's11_trial20', 's09_trial24', 's13_trial26', 's13_trial14', 's22_trial33', 's01_trial23', 's01_trial10', 's18_trial40'],\n",
    "['s02_trial02', 's02_trial39', 's02_trial19', 's04_trial23', 's11_trial20', 's09_trial24', 's13_trial26', 's13_trial14', 's22_trial33', 's01_trial23', 's01_trial10', 's18_trial40'],\n",
    "['s02_trial39', 's02_trial05', 's02_trial02', 's04_trial23', 's11_trial20', 's13_trial26', 's09_trial24', 's13_trial14', 's22_trial33', 's01_trial23', 's01_trial10', 's18_trial40'],\n",
    "['s02_trial19', 's02_trial05', 's02_trial02', 's04_trial23', 's11_trial20', 's13_trial26', 's09_trial24', 's13_trial14', 's01_trial23', 's22_trial33', 's01_trial10', 's18_trial40'],\n",
    "['s09_trial24', 's11_trial20', 's02_trial39', 's02_trial19', 's13_trial26', 's02_trial05', 's02_trial02', 's13_trial14', 's18_trial40', 's01_trial23', 's22_trial33', 's01_trial10'],\n",
    "['s04_trial23', 's11_trial20', 's02_trial39', 's13_trial26', 's02_trial19', 's18_trial40', 's02_trial05', 's13_trial14', 's02_trial02', 's01_trial23', 's22_trial33', 's01_trial10'],\n",
    "['s04_trial23', 's09_trial24', 's13_trial26', 's02_trial39', 's13_trial14', 's02_trial19', 's02_trial05', 's02_trial02', 's18_trial40', 's01_trial23', 's22_trial33', 's01_trial10'],\n",
    "['s13_trial26', 's01_trial23', 's11_trial20', 's04_trial23', 's18_trial40', 's01_trial10', 's02_trial39', 's02_trial19', 's09_trial24', 's02_trial05', 's02_trial02', 's22_trial33'],\n",
    "['s13_trial14', 's11_trial20', 's04_trial23', 's01_trial23', 's02_trial39', 's18_trial40', 's09_trial24', 's02_trial19', 's01_trial10', 's02_trial05', 's02_trial02', 's22_trial33'],\n",
    "['s04_trial23', 's13_trial14', 's13_trial26', 's01_trial23', 's09_trial24', 's11_trial20', 's01_trial10', 's02_trial39', 's02_trial05', 's02_trial19', 's02_trial02', 's22_trial33'],\n",
    "['s02_trial19', 's04_trial23', 's02_trial05', 's02_trial02', 's02_trial39', 's11_trial20', 's09_trial24', 's13_trial26', 's13_trial14', 's18_trial40', 's01_trial23', 's01_trial10'],]\n",
    "sort_video_in_id = []\n",
    "for sort1 in sort_video:\n",
    "    sort_video_in_id.append([participant_trials_list_dict[x] for x in sort1])\n",
    "    [print(participant_trials_list_dict[x]+1, end=', ') for x in sort1]\n",
    "    print()\n",
    "\n",
    "sort_video_in_id\n",
    "\n"
   ]
  },
  {
   "cell_type": "code",
   "execution_count": 122,
   "metadata": {},
   "outputs": [],
   "source": [
    "from scipy.stats import kendalltau\n",
    "\n",
    "sort_eeg_in_id = np.array(sort_eeg_in_id)\n",
    "sort_video_in_id = np.array(sort_video_in_id)\n",
    "\n",
    "kendalltau_dist = [kendalltau(x, y)[0] for x, y in zip(sort_eeg_in_id, sort_video_in_id)]"
   ]
  },
  {
   "cell_type": "code",
   "execution_count": 123,
   "metadata": {},
   "outputs": [
    {
     "data": {
      "text/plain": [
       "[0.6666666666666666,\n",
       " 0.6969696969696969,\n",
       " 0.1212121212121212,\n",
       " 0.1515151515151515,\n",
       " 0.0909090909090909,\n",
       " 0.3636363636363636,\n",
       " -0.0909090909090909,\n",
       " -0.1212121212121212,\n",
       " -0.4242424242424242,\n",
       " 0.3636363636363636,\n",
       " -0.1515151515151515,\n",
       " 0.0,\n",
       " 0.7575757575757575]"
      ]
     },
     "execution_count": 123,
     "metadata": {},
     "output_type": "execute_result"
    }
   ],
   "source": [
    "kendalltau_dist"
   ]
  },
  {
   "cell_type": "code",
   "execution_count": null,
   "metadata": {},
   "outputs": [],
   "source": []
  },
  {
   "cell_type": "code",
   "execution_count": 44,
   "metadata": {},
   "outputs": [],
   "source": [
    "label_high_valence = 1 * (labels_all2[:, 0] > 5)\n",
    "label_high_arousal = 1 * (labels_all2[:, 1] > 5)"
   ]
  },
  {
   "cell_type": "code",
   "execution_count": 63,
   "metadata": {},
   "outputs": [
    {
     "data": {
      "text/plain": [
       "0.6041666666666666"
      ]
     },
     "execution_count": 63,
     "metadata": {},
     "output_type": "execute_result"
    }
   ],
   "source": [
    "from sklearn.ensemble import RandomForestClassifier\n",
    "from sklearn.model_selection import train_test_split\n",
    "\n",
    "n_estimators = 100\n",
    "max_leaf_nodes = 10\n",
    "random_state = 42\n",
    "\n",
    "X_train, X_test, y_train, y_test = train_test_split(eeg_psd_features, label_high_valence, test_size=0.3, random_state=42)\n",
    "X_tra, X_val, y_tra, y_val = train_test_split(X_train, y_train, test_size=0.3, random_state=42)\n",
    "\n",
    "rf = RandomForestClassifier(\n",
    "        n_estimators=n_estimators, max_leaf_nodes=max_leaf_nodes, random_state=random_state).fit(X_tra, y_tra)\n",
    "y_tra_pred = rf.predict(X_tra)\n",
    "y_val_pred = rf.predict(X_val)\n",
    "y_test_pred = rf.predict(X_test)\n",
    "(y_val_pred == y_val).sum() / y_val.shape[0]\n",
    "(y_test_pred == y_test).sum() / y_test.shape[0]\n",
    "# (y_tra_pred == y_tra).sum() / y_tra.shape[0]\n"
   ]
  },
  {
   "cell_type": "code",
   "execution_count": 41,
   "metadata": {},
   "outputs": [
    {
     "data": {
      "text/plain": [
       "array([[ 0.56157039,  0.99566174,  0.91894346, ...,  1.26635582,\n",
       "         1.59198698,  0.3557368 ],\n",
       "       [ 0.69136403,  1.21474133,  1.12074504, ...,  2.08229943,\n",
       "         1.9683278 ,  0.37309962],\n",
       "       [ 0.64283221,  1.13670878,  1.03838757, ...,  1.75204526,\n",
       "         2.31934234,  0.44637827],\n",
       "       ...,\n",
       "       [ 0.80967844,  1.43031135,  0.81008333, ..., 19.71596951,\n",
       "         2.45146701,  0.64780662],\n",
       "       [ 0.83249276,  1.47169889,  0.96139856, ...,  5.6457659 ,\n",
       "         1.58424465,  0.5764151 ],\n",
       "       [ 0.84376836,  1.4942198 ,  0.89558639, ..., 22.47292211,\n",
       "         2.28325616,  0.58072079]])"
      ]
     },
     "execution_count": 41,
     "metadata": {},
     "output_type": "execute_result"
    }
   ],
   "source": [
    "eeg_psd_features"
   ]
  },
  {
   "cell_type": "code",
   "execution_count": null,
   "metadata": {},
   "outputs": [],
   "source": []
  }
 ],
 "metadata": {
  "kernelspec": {
   "display_name": "base",
   "language": "python",
   "name": "python3"
  },
  "language_info": {
   "codemirror_mode": {
    "name": "ipython",
    "version": 3
   },
   "file_extension": ".py",
   "mimetype": "text/x-python",
   "name": "python",
   "nbconvert_exporter": "python",
   "pygments_lexer": "ipython3",
   "version": "3.9.7"
  }
 },
 "nbformat": 4,
 "nbformat_minor": 2
}
